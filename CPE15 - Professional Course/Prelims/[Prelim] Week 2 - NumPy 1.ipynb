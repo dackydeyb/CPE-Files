{
  "cells": [
    {
      "cell_type": "markdown",
      "metadata": {
        "id": "eY9gXhFN7Qjy"
      },
      "source": [
        "## NumPy\n",
        "\n",
        " - is the fundamental package for scientific computing in Python. It is a Python library that provides a multidimensional array object, various derived objects (such as masked arrays and matrices), and an assortment of routines for fast operations on arrays, including mathematical, logical, shape manipulation, sorting, selecting, I/O, discrete Fourier transforms, basic linear algebra, basic statistical operations, random simulation and much more.\n",
        "\n",
        "    \n",
        "  - is a linear algebra library for Python that is so important for Data Science for the reason that almost all libraries in the PyData Ecosystem rely on NumPy as one of their main building blocks.\n",
        "  \n",
        "  \n",
        "  - NumPy is already included in the Anaconda Distribution"
      ]
    },
    {
      "cell_type": "markdown",
      "metadata": {
        "id": "6EPaKSyf7Qj1"
      },
      "source": [
        "## Numpy Array through casting a List"
      ]
    },
    {
      "cell_type": "code",
      "execution_count": null,
      "metadata": {
        "id": "ntEMWwbY7Qj2"
      },
      "outputs": [],
      "source": [
        "import numpy as np"
      ]
    },
    {
      "cell_type": "code",
      "execution_count": null,
      "metadata": {
        "id": "BlP5IcxJ7Qj3"
      },
      "outputs": [],
      "source": [
        "list_1 = [1,2,3,4]"
      ]
    },
    {
      "cell_type": "code",
      "execution_count": null,
      "metadata": {
        "id": "itaoAk-l7Qj5"
      },
      "outputs": [],
      "source": [
        "array_1 = np.array(list_1)"
      ]
    },
    {
      "cell_type": "code",
      "execution_count": null,
      "metadata": {
        "colab": {
          "base_uri": "https://localhost:8080/"
        },
        "id": "cwxWBb967Qj6",
        "outputId": "e2643511-1f93-4a82-fb46-8d0275407503"
      },
      "outputs": [
        {
          "output_type": "execute_result",
          "data": {
            "text/plain": [
              "array([1, 2, 3, 4])"
            ]
          },
          "metadata": {},
          "execution_count": 82
        }
      ],
      "source": [
        "array_1"
      ]
    },
    {
      "cell_type": "code",
      "execution_count": null,
      "metadata": {
        "id": "KDvo7R6C7Qj6"
      },
      "outputs": [],
      "source": [
        "my_list = [[1,2,3],[4,5,6],[7,8,9]]"
      ]
    },
    {
      "cell_type": "code",
      "execution_count": null,
      "metadata": {
        "colab": {
          "base_uri": "https://localhost:8080/"
        },
        "id": "w8e1Wu3v7Qj7",
        "outputId": "efebd6b5-aeba-4fd7-e35d-15cf55330e85"
      },
      "outputs": [
        {
          "output_type": "execute_result",
          "data": {
            "text/plain": [
              "array([[1, 2, 3],\n",
              "       [4, 5, 6],\n",
              "       [7, 8, 9]])"
            ]
          },
          "metadata": {},
          "execution_count": 84
        }
      ],
      "source": [
        "np.array(my_list)"
      ]
    },
    {
      "cell_type": "markdown",
      "metadata": {
        "id": "QXYhNE-e7Qj9"
      },
      "source": [
        "### np.arange\n",
        "\n",
        "     - return evenly spaced values within a given interval"
      ]
    },
    {
      "cell_type": "code",
      "execution_count": null,
      "metadata": {
        "colab": {
          "base_uri": "https://localhost:8080/"
        },
        "id": "CQMs2SNt7Qj9",
        "outputId": "c4cc8882-102b-43d4-b5ef-9c9f7e19d5a3"
      },
      "outputs": [
        {
          "output_type": "execute_result",
          "data": {
            "text/plain": [
              "array([ 0,  1,  2,  3,  4,  5,  6,  7,  8,  9, 10])"
            ]
          },
          "metadata": {},
          "execution_count": 85
        }
      ],
      "source": [
        "np.arange(11)"
      ]
    },
    {
      "cell_type": "code",
      "execution_count": null,
      "metadata": {
        "id": "eTZwMkIa7Qj-",
        "outputId": "4479d6ca-0ff1-4684-dc02-fcca936be753",
        "colab": {
          "base_uri": "https://localhost:8080/"
        }
      },
      "outputs": [
        {
          "output_type": "execute_result",
          "data": {
            "text/plain": [
              "array([ 5,  6,  7,  8,  9, 10])"
            ]
          },
          "metadata": {},
          "execution_count": 86
        }
      ],
      "source": [
        "np.arange(5,11)"
      ]
    },
    {
      "cell_type": "code",
      "execution_count": null,
      "metadata": {
        "colab": {
          "base_uri": "https://localhost:8080/"
        },
        "id": "5yEiASjT7Qj-",
        "outputId": "1cc02b66-00e6-4f63-c5f3-9870956a88f4"
      },
      "outputs": [
        {
          "output_type": "execute_result",
          "data": {
            "text/plain": [
              "array([0, 3, 6, 9])"
            ]
          },
          "metadata": {},
          "execution_count": 87
        }
      ],
      "source": [
        "np.arange(0,11,3) # equally space at 3"
      ]
    },
    {
      "cell_type": "markdown",
      "metadata": {
        "id": "rWOJcsr67Qj_"
      },
      "source": [
        "### np.zeros\n",
        "\n",
        "     - return a new array of given shape and type, filled with zeros"
      ]
    },
    {
      "cell_type": "code",
      "execution_count": null,
      "metadata": {
        "id": "qzAwUvHD7QkA",
        "outputId": "44dfdeb5-f67a-4147-c105-9ca3f0e2832a",
        "colab": {
          "base_uri": "https://localhost:8080/"
        }
      },
      "outputs": [
        {
          "output_type": "execute_result",
          "data": {
            "text/plain": [
              "array([0., 0., 0.])"
            ]
          },
          "metadata": {},
          "execution_count": 88
        }
      ],
      "source": [
        "np.zeros(3)"
      ]
    },
    {
      "cell_type": "code",
      "execution_count": null,
      "metadata": {
        "id": "AuIbLVuF7QkB",
        "outputId": "91c55e3a-0574-428e-b100-00a216d890c9",
        "colab": {
          "base_uri": "https://localhost:8080/"
        }
      },
      "outputs": [
        {
          "output_type": "execute_result",
          "data": {
            "text/plain": [
              "array([[0., 0., 0.],\n",
              "       [0., 0., 0.],\n",
              "       [0., 0., 0.]])"
            ]
          },
          "metadata": {},
          "execution_count": 89
        }
      ],
      "source": [
        "np.zeros((3,3))"
      ]
    },
    {
      "cell_type": "markdown",
      "metadata": {
        "id": "WNMOjpvy7QkB"
      },
      "source": [
        "### np.ones\n",
        "\n",
        "     - return a new array of given shape and type, filled with ones"
      ]
    },
    {
      "cell_type": "code",
      "execution_count": null,
      "metadata": {
        "id": "6oUZS-3r7QkB",
        "outputId": "7603a1a5-8a6b-4e52-b7e6-801403c66a64",
        "colab": {
          "base_uri": "https://localhost:8080/"
        }
      },
      "outputs": [
        {
          "output_type": "execute_result",
          "data": {
            "text/plain": [
              "array([1., 1., 1.])"
            ]
          },
          "metadata": {},
          "execution_count": 90
        }
      ],
      "source": [
        "np.ones(3)"
      ]
    },
    {
      "cell_type": "code",
      "execution_count": null,
      "metadata": {
        "colab": {
          "base_uri": "https://localhost:8080/"
        },
        "id": "p59AaLFh7QkB",
        "outputId": "d08dc0f5-6227-41a8-8b86-32e65e6d0ebf"
      },
      "outputs": [
        {
          "output_type": "execute_result",
          "data": {
            "text/plain": [
              "array([[1., 1., 1., 1., 1.],\n",
              "       [1., 1., 1., 1., 1.],\n",
              "       [1., 1., 1., 1., 1.],\n",
              "       [1., 1., 1., 1., 1.],\n",
              "       [1., 1., 1., 1., 1.]])"
            ]
          },
          "metadata": {},
          "execution_count": 91
        }
      ],
      "source": [
        "np.ones((5,5))"
      ]
    },
    {
      "cell_type": "markdown",
      "metadata": {
        "id": "db93SkRG7QkC"
      },
      "source": [
        "### np.linspace\n",
        "\n",
        "    - return evenly spaced numbers over a specified interval"
      ]
    },
    {
      "cell_type": "code",
      "execution_count": null,
      "metadata": {
        "colab": {
          "base_uri": "https://localhost:8080/"
        },
        "id": "k9z8Hv817QkC",
        "outputId": "620f1942-3472-48c1-b31f-01b4ec81a1b2"
      },
      "outputs": [
        {
          "output_type": "execute_result",
          "data": {
            "text/plain": [
              "array([ 0. ,  2.5,  5. ,  7.5, 10. ])"
            ]
          },
          "metadata": {},
          "execution_count": 92
        }
      ],
      "source": [
        "np.linspace(0,10,5)"
      ]
    },
    {
      "cell_type": "code",
      "execution_count": null,
      "metadata": {
        "colab": {
          "base_uri": "https://localhost:8080/"
        },
        "id": "OzX1K2PL7QkD",
        "outputId": "2e5f6ef5-aaff-4a0a-91f0-315e295646f9"
      },
      "outputs": [
        {
          "output_type": "execute_result",
          "data": {
            "text/plain": [
              "array([ 0.        ,  4.28571429,  8.57142857, 12.85714286, 17.14285714,\n",
              "       21.42857143, 25.71428571, 30.        ])"
            ]
          },
          "metadata": {},
          "execution_count": 93
        }
      ],
      "source": [
        "np.linspace(0,30,8)"
      ]
    },
    {
      "cell_type": "markdown",
      "metadata": {
        "id": "PxuD_mp-7QkD"
      },
      "source": [
        "### np.eye\n",
        "\n",
        "    - return a 2-D array with ones on the diagonal and zeros elsewhere"
      ]
    },
    {
      "cell_type": "code",
      "execution_count": null,
      "metadata": {
        "colab": {
          "base_uri": "https://localhost:8080/"
        },
        "id": "ou9QnKsd7QkE",
        "outputId": "d958eb11-c165-4f68-ec15-81c62a1d42ab"
      },
      "outputs": [
        {
          "output_type": "execute_result",
          "data": {
            "text/plain": [
              "array([[1., 0., 0., 0.],\n",
              "       [0., 1., 0., 0.],\n",
              "       [0., 0., 1., 0.],\n",
              "       [0., 0., 0., 1.]])"
            ]
          },
          "metadata": {},
          "execution_count": 94
        }
      ],
      "source": [
        "np.eye(4)"
      ]
    },
    {
      "cell_type": "markdown",
      "metadata": {
        "id": "_2b9kuVf7QkF"
      },
      "source": [
        "### np.random.rand\n",
        "\n",
        "    - return values (random) in a given shape"
      ]
    },
    {
      "cell_type": "code",
      "execution_count": null,
      "metadata": {
        "colab": {
          "base_uri": "https://localhost:8080/"
        },
        "id": "LhAzVteQ7QkF",
        "outputId": "2a52bb66-8532-4dbe-f159-29034bb1f3e8"
      },
      "outputs": [
        {
          "output_type": "execute_result",
          "data": {
            "text/plain": [
              "array([0.39419679, 0.28466724, 0.98615737, 0.42452584, 0.56000158])"
            ]
          },
          "metadata": {},
          "execution_count": 95
        }
      ],
      "source": [
        "np.random.rand(5)"
      ]
    },
    {
      "cell_type": "code",
      "execution_count": null,
      "metadata": {
        "id": "dcay1hNC7QkF",
        "outputId": "4ced950d-e425-4ea3-cd69-311c880af2d2",
        "colab": {
          "base_uri": "https://localhost:8080/"
        }
      },
      "outputs": [
        {
          "output_type": "execute_result",
          "data": {
            "text/plain": [
              "array([[0.40700816, 0.27201269, 0.87659092],\n",
              "       [0.29718884, 0.063618  , 0.09491668]])"
            ]
          },
          "metadata": {},
          "execution_count": 96
        }
      ],
      "source": [
        "np.random.rand(2,3)"
      ]
    },
    {
      "cell_type": "markdown",
      "metadata": {
        "id": "qANWhb877QkG"
      },
      "source": [
        "### np.random.randn\n",
        "\n",
        "    - return a sample (or samples) from the 'standard normal' distribution"
      ]
    },
    {
      "cell_type": "code",
      "execution_count": null,
      "metadata": {
        "id": "TiW4ZeTK7QkH",
        "outputId": "f9346fe3-ce5e-4833-b502-4b6e5fb39724",
        "colab": {
          "base_uri": "https://localhost:8080/"
        }
      },
      "outputs": [
        {
          "output_type": "execute_result",
          "data": {
            "text/plain": [
              "array([[ 0.59068761, -0.76903447,  1.10535909,  0.35807108,  0.81589964],\n",
              "       [ 0.96474677, -0.0920001 ,  1.02146584, -0.34806812, -0.26146984],\n",
              "       [ 0.11623646,  1.04592666,  0.01547162, -2.18695098,  1.58578351],\n",
              "       [-1.03677908,  1.21608807,  0.45089434, -0.92746753,  1.54600626],\n",
              "       [-0.32347232,  0.49156916, -0.86753754, -0.34284072, -0.97809686]])"
            ]
          },
          "metadata": {},
          "execution_count": 97
        }
      ],
      "source": [
        "np.random.randn(5,5)"
      ]
    },
    {
      "cell_type": "markdown",
      "metadata": {
        "id": "_TaDtO5q7QkH"
      },
      "source": [
        "### np.random.randint\n",
        "\n",
        "     - return random integers from low (inclusive) to high (exclusive)"
      ]
    },
    {
      "cell_type": "code",
      "execution_count": null,
      "metadata": {
        "id": "X6QJtSE57QkI",
        "outputId": "34174fc4-1e64-48d7-b269-ac88b1c77002",
        "colab": {
          "base_uri": "https://localhost:8080/"
        }
      },
      "outputs": [
        {
          "output_type": "execute_result",
          "data": {
            "text/plain": [
              "12"
            ]
          },
          "metadata": {},
          "execution_count": 98
        }
      ],
      "source": [
        "np.random.randint(1,20) #generate a random number from 1 to 19"
      ]
    },
    {
      "cell_type": "code",
      "execution_count": null,
      "metadata": {
        "id": "YzTfMkPh7QkI",
        "outputId": "83d3a566-ef90-4906-8bf9-08f4a3c4bc9e",
        "colab": {
          "base_uri": "https://localhost:8080/"
        }
      },
      "outputs": [
        {
          "output_type": "execute_result",
          "data": {
            "text/plain": [
              "array([7, 7, 5, 7, 6])"
            ]
          },
          "metadata": {},
          "execution_count": 99
        }
      ],
      "source": [
        "np.random.randint(1,10,5) #generate five random numbers from 1 to 9 (discrete uniform distribution)"
      ]
    },
    {
      "cell_type": "markdown",
      "metadata": {
        "id": "MhQcMfMm7QkI"
      },
      "source": [
        "### np.reshape\n",
        "\n",
        "    - gives a new shape to an array without changing its data"
      ]
    },
    {
      "cell_type": "code",
      "execution_count": null,
      "metadata": {
        "id": "7U8x3YYh7QkJ"
      },
      "outputs": [],
      "source": [
        "random_array = np.random.randint(0,50,25)"
      ]
    },
    {
      "cell_type": "code",
      "execution_count": null,
      "metadata": {
        "id": "IloZTze27QkJ",
        "outputId": "83d9999f-4d9a-45ba-e1f9-f213db40ee7f",
        "colab": {
          "base_uri": "https://localhost:8080/"
        }
      },
      "outputs": [
        {
          "output_type": "execute_result",
          "data": {
            "text/plain": [
              "array([ 2, 31, 25, 25, 14, 48, 24, 36, 49, 19,  4, 45, 44,  3,  0, 33, 21,\n",
              "       32, 11, 41, 32, 36, 22,  7, 12])"
            ]
          },
          "metadata": {},
          "execution_count": 101
        }
      ],
      "source": [
        "random_array"
      ]
    },
    {
      "cell_type": "code",
      "execution_count": null,
      "metadata": {
        "id": "d2G61MR-7QkJ",
        "outputId": "4327fc65-e795-4ad4-d3ba-05fab4eb245f",
        "colab": {
          "base_uri": "https://localhost:8080/"
        }
      },
      "outputs": [
        {
          "output_type": "execute_result",
          "data": {
            "text/plain": [
              "array([[ 2, 31, 25, 25, 14],\n",
              "       [48, 24, 36, 49, 19],\n",
              "       [ 4, 45, 44,  3,  0],\n",
              "       [33, 21, 32, 11, 41],\n",
              "       [32, 36, 22,  7, 12]])"
            ]
          },
          "metadata": {},
          "execution_count": 102
        }
      ],
      "source": [
        "random_array.reshape(5,5)"
      ]
    },
    {
      "cell_type": "markdown",
      "metadata": {
        "id": "7RapQOAM7QkK"
      },
      "source": [
        "## Array Methods"
      ]
    },
    {
      "cell_type": "markdown",
      "metadata": {
        "id": "jCg67wXi7QkK"
      },
      "source": [
        "### max(), min()\n",
        "\n",
        "    - identify what is the max (highest) and min (lowest) value"
      ]
    },
    {
      "cell_type": "code",
      "execution_count": null,
      "metadata": {
        "id": "m0dkb5Z37QkK"
      },
      "outputs": [],
      "source": [
        "random_array = np.random.randint(0,25,10)"
      ]
    },
    {
      "cell_type": "code",
      "execution_count": null,
      "metadata": {
        "id": "hAE53WQw7QkK",
        "outputId": "a6a72351-890a-440f-be06-c53cc76fd38b",
        "colab": {
          "base_uri": "https://localhost:8080/"
        }
      },
      "outputs": [
        {
          "output_type": "execute_result",
          "data": {
            "text/plain": [
              "array([10, 22,  4, 21,  3, 23,  7,  9, 17,  7])"
            ]
          },
          "metadata": {},
          "execution_count": 104
        }
      ],
      "source": [
        "random_array"
      ]
    },
    {
      "cell_type": "code",
      "execution_count": null,
      "metadata": {
        "id": "vPX3oGjF7QkL",
        "outputId": "63c76fd2-5a6b-4c1a-dbba-8552a846a2cb",
        "colab": {
          "base_uri": "https://localhost:8080/"
        }
      },
      "outputs": [
        {
          "output_type": "execute_result",
          "data": {
            "text/plain": [
              "23"
            ]
          },
          "metadata": {},
          "execution_count": 105
        }
      ],
      "source": [
        "random_array.max()"
      ]
    },
    {
      "cell_type": "code",
      "execution_count": null,
      "metadata": {
        "id": "qXoeldnz7QkL",
        "outputId": "12bbec49-b797-4cb2-9385-68a300de6b45",
        "colab": {
          "base_uri": "https://localhost:8080/"
        }
      },
      "outputs": [
        {
          "output_type": "execute_result",
          "data": {
            "text/plain": [
              "3"
            ]
          },
          "metadata": {},
          "execution_count": 106
        }
      ],
      "source": [
        "random_array.min()"
      ]
    },
    {
      "cell_type": "markdown",
      "metadata": {
        "id": "DRGcnUEx7QkL"
      },
      "source": [
        "### argmax(), argmin()\n",
        "\n",
        "      - identify index of max and min values"
      ]
    },
    {
      "cell_type": "code",
      "execution_count": null,
      "metadata": {
        "id": "ZzPD-ADC7QkL"
      },
      "outputs": [],
      "source": [
        "random_array = np.random.randint(0,25,10)"
      ]
    },
    {
      "cell_type": "code",
      "execution_count": null,
      "metadata": {
        "id": "hFWaVcit7QkM",
        "outputId": "35aea908-4b98-44cd-9d8a-9ceb6c92a794",
        "colab": {
          "base_uri": "https://localhost:8080/"
        }
      },
      "outputs": [
        {
          "output_type": "execute_result",
          "data": {
            "text/plain": [
              "array([21,  9,  9,  4,  8,  7, 15,  0,  4,  9])"
            ]
          },
          "metadata": {},
          "execution_count": 108
        }
      ],
      "source": [
        "random_array"
      ]
    },
    {
      "cell_type": "code",
      "execution_count": null,
      "metadata": {
        "id": "NZmPgUke7QkM",
        "outputId": "fcaa4226-a12e-4c64-dbb7-65f8e6e874c3",
        "colab": {
          "base_uri": "https://localhost:8080/"
        }
      },
      "outputs": [
        {
          "output_type": "execute_result",
          "data": {
            "text/plain": [
              "0"
            ]
          },
          "metadata": {},
          "execution_count": 109
        }
      ],
      "source": [
        "random_array.argmax()"
      ]
    },
    {
      "cell_type": "code",
      "execution_count": null,
      "metadata": {
        "id": "5kksbouG7QkM",
        "outputId": "d3fd81c9-1c55-4b04-a684-cfe6a0fe63da",
        "colab": {
          "base_uri": "https://localhost:8080/"
        }
      },
      "outputs": [
        {
          "output_type": "execute_result",
          "data": {
            "text/plain": [
              "7"
            ]
          },
          "metadata": {},
          "execution_count": 110
        }
      ],
      "source": [
        "random_array.argmin()"
      ]
    },
    {
      "cell_type": "markdown",
      "metadata": {
        "id": "xf-YcrgA7QkN"
      },
      "source": [
        "### shape()\n",
        "\n",
        "    - identify the shape of a vector"
      ]
    },
    {
      "cell_type": "code",
      "execution_count": null,
      "metadata": {
        "id": "V-e1aXfF7QkN"
      },
      "outputs": [],
      "source": [
        "random_array = np.random.randint(0,25,10)"
      ]
    },
    {
      "cell_type": "code",
      "execution_count": null,
      "metadata": {
        "id": "WoYemOyo7QkN",
        "outputId": "15d2cf79-c006-49f9-be73-2d2bffc6a619",
        "colab": {
          "base_uri": "https://localhost:8080/"
        }
      },
      "outputs": [
        {
          "output_type": "execute_result",
          "data": {
            "text/plain": [
              "(10,)"
            ]
          },
          "metadata": {},
          "execution_count": 112
        }
      ],
      "source": [
        "random_array.shape"
      ]
    },
    {
      "cell_type": "code",
      "execution_count": null,
      "metadata": {
        "id": "ck9Jmqvj7QkO"
      },
      "outputs": [],
      "source": [
        "new_arr = random_array.reshape(2,5)"
      ]
    },
    {
      "cell_type": "code",
      "execution_count": null,
      "metadata": {
        "id": "Y53ANh3R7QkO",
        "outputId": "5642fe28-3f56-4038-e03f-a237899d2e0d",
        "colab": {
          "base_uri": "https://localhost:8080/"
        }
      },
      "outputs": [
        {
          "output_type": "execute_result",
          "data": {
            "text/plain": [
              "array([[ 9, 12,  9,  0, 12],\n",
              "       [11, 16, 22, 14,  3]])"
            ]
          },
          "metadata": {},
          "execution_count": 114
        }
      ],
      "source": [
        "new_arr"
      ]
    },
    {
      "cell_type": "code",
      "execution_count": null,
      "metadata": {
        "id": "eP41mQ7X7QkO",
        "outputId": "09e5475f-bdf9-4c1f-f898-0746156c421a",
        "colab": {
          "base_uri": "https://localhost:8080/"
        }
      },
      "outputs": [
        {
          "output_type": "execute_result",
          "data": {
            "text/plain": [
              "(2, 5)"
            ]
          },
          "metadata": {},
          "execution_count": 115
        }
      ],
      "source": [
        "new_arr.shape"
      ]
    },
    {
      "cell_type": "markdown",
      "metadata": {
        "id": "1tsxL1SZ7QkP"
      },
      "source": [
        "### dtype\n",
        "\n",
        "    - identify data type of array"
      ]
    },
    {
      "cell_type": "code",
      "execution_count": null,
      "metadata": {
        "id": "BYhhmfcC7QkP",
        "outputId": "30c14289-b364-4b05-ff94-99679de33aec",
        "colab": {
          "base_uri": "https://localhost:8080/"
        }
      },
      "outputs": [
        {
          "output_type": "execute_result",
          "data": {
            "text/plain": [
              "dtype('int64')"
            ]
          },
          "metadata": {},
          "execution_count": 116
        }
      ],
      "source": [
        "random_array.dtype"
      ]
    }
  ],
  "metadata": {
    "kernelspec": {
      "display_name": "Python 3",
      "language": "python",
      "name": "python3"
    },
    "language_info": {
      "codemirror_mode": {
        "name": "ipython",
        "version": 3
      },
      "file_extension": ".py",
      "mimetype": "text/x-python",
      "name": "python",
      "nbconvert_exporter": "python",
      "pygments_lexer": "ipython3",
      "version": "3.7.6"
    },
    "colab": {
      "provenance": []
    }
  },
  "nbformat": 4,
  "nbformat_minor": 0
}