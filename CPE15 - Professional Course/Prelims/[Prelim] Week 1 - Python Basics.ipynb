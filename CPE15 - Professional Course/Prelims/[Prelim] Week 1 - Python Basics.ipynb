{
  "nbformat": 4,
  "nbformat_minor": 0,
  "metadata": {
    "colab": {
      "provenance": [],
      "collapsed_sections": [
        "y2D7Q8kAvHb3"
      ]
    },
    "kernelspec": {
      "name": "python3",
      "display_name": "Python 3"
    },
    "language_info": {
      "name": "python"
    }
  },
  "cells": [
    {
      "cell_type": "markdown",
      "source": [
        "#Nested list"
      ],
      "metadata": {
        "id": "JtuxTcvDtNyv"
      }
    },
    {
      "cell_type": "code",
      "execution_count": null,
      "metadata": {
        "id": "v7A7-y2qoK3I"
      },
      "outputs": [],
      "source": [
        "#Nested list\n",
        "\n",
        "nest = ['Furina', 7, 54, ['Nilou', 5, ['Keqing']]]"
      ]
    },
    {
      "cell_type": "code",
      "source": [
        "nest [3]"
      ],
      "metadata": {
        "colab": {
          "base_uri": "https://localhost:8080/"
        },
        "id": "hv7G5Q7PoVLO",
        "outputId": "f01e1154-32d1-4291-bb15-8a278d7968ac"
      },
      "execution_count": null,
      "outputs": [
        {
          "output_type": "execute_result",
          "data": {
            "text/plain": [
              "['Nilou', 5, ['Keqing']]"
            ]
          },
          "metadata": {},
          "execution_count": 15
        }
      ]
    },
    {
      "cell_type": "code",
      "source": [
        "nest [3][0]"
      ],
      "metadata": {
        "colab": {
          "base_uri": "https://localhost:8080/",
          "height": 35
        },
        "id": "-o1apXh_o29z",
        "outputId": "ef17080a-2cc3-4200-f600-fe29eef61444"
      },
      "execution_count": null,
      "outputs": [
        {
          "output_type": "execute_result",
          "data": {
            "text/plain": [
              "'Nilou'"
            ],
            "application/vnd.google.colaboratory.intrinsic+json": {
              "type": "string"
            }
          },
          "metadata": {},
          "execution_count": 13
        }
      ]
    },
    {
      "cell_type": "code",
      "source": [
        "nest [3] [2] [0]"
      ],
      "metadata": {
        "colab": {
          "base_uri": "https://localhost:8080/",
          "height": 35
        },
        "id": "FuhyeuD3o_Tb",
        "outputId": "19101b8a-64a1-473a-cedf-50bdd3330bcd"
      },
      "execution_count": null,
      "outputs": [
        {
          "output_type": "execute_result",
          "data": {
            "text/plain": [
              "'Keqing'"
            ],
            "application/vnd.google.colaboratory.intrinsic+json": {
              "type": "string"
            }
          },
          "metadata": {},
          "execution_count": 12
        }
      ]
    },
    {
      "cell_type": "markdown",
      "source": [
        "#Dictionary\n",
        "\n",
        "```\n",
        "    - key value pairs\n",
        "```\n",
        "\n"
      ],
      "metadata": {
        "id": "n4OyfC63qcc3"
      }
    },
    {
      "cell_type": "code",
      "source": [
        "d = {'Protocol1' : \"DHCP\", 'Protocol2' : \"IMAP\", 'Protocol3' : [67, 993, 587, [22, 23, [110, 995, ['SMTPS']]]], 'Char1': {'Keqing': 2, 'Hu Tao':['c1', 'c2','r1']}}\n"
      ],
      "metadata": {
        "id": "lcNqWw8fqlhu"
      },
      "execution_count": null,
      "outputs": []
    },
    {
      "cell_type": "code",
      "source": [
        "# splice and indexing\n",
        "d ['Protocol3'] [3] [2] [2] [0]"
      ],
      "metadata": {
        "colab": {
          "base_uri": "https://localhost:8080/",
          "height": 35
        },
        "id": "m9iir8rirEdE",
        "outputId": "76c78702-5a24-45b9-b965-59f62a424d56"
      },
      "execution_count": null,
      "outputs": [
        {
          "output_type": "execute_result",
          "data": {
            "text/plain": [
              "'SMTPS'"
            ],
            "application/vnd.google.colaboratory.intrinsic+json": {
              "type": "string"
            }
          },
          "metadata": {},
          "execution_count": 32
        }
      ]
    },
    {
      "cell_type": "code",
      "source": [
        "d ['Char1'] ['Keqing']"
      ],
      "metadata": {
        "colab": {
          "base_uri": "https://localhost:8080/"
        },
        "id": "JvHO3P_-rP28",
        "outputId": "22ea7a48-b61c-4320-f2a8-4902e18ca9ef"
      },
      "execution_count": null,
      "outputs": [
        {
          "output_type": "execute_result",
          "data": {
            "text/plain": [
              "2"
            ]
          },
          "metadata": {},
          "execution_count": 38
        }
      ]
    },
    {
      "cell_type": "code",
      "source": [
        "d ['Char1'] ['Hu Tao'] [1]"
      ],
      "metadata": {
        "colab": {
          "base_uri": "https://localhost:8080/",
          "height": 35
        },
        "id": "AQR-S4JmuMrW",
        "outputId": "4cf11bc0-09c0-48ad-a0f9-de8ff22818e8"
      },
      "execution_count": null,
      "outputs": [
        {
          "output_type": "execute_result",
          "data": {
            "text/plain": [
              "'c2'"
            ],
            "application/vnd.google.colaboratory.intrinsic+json": {
              "type": "string"
            }
          },
          "metadata": {},
          "execution_count": 39
        }
      ]
    },
    {
      "cell_type": "markdown",
      "source": [
        "#Boolean\n",
        "\n",
        "    - True or False"
      ],
      "metadata": {
        "id": "DcBL41Zgu9Le"
      }
    },
    {
      "cell_type": "markdown",
      "source": [
        "#Tuple\n",
        "\n",
        "- immutable\n",
        "- uses parenthesis '()'\n",
        "- Does'nt allow assignments"
      ],
      "metadata": {
        "id": "y2D7Q8kAvHb3"
      }
    },
    {
      "cell_type": "code",
      "source": [
        "Location = ('Mondstadt', 'Liyue', 'Inazuma')"
      ],
      "metadata": {
        "id": "aFrBCzMhvJth"
      },
      "execution_count": null,
      "outputs": []
    },
    {
      "cell_type": "code",
      "source": [
        "type(Location)"
      ],
      "metadata": {
        "colab": {
          "base_uri": "https://localhost:8080/"
        },
        "id": "vlkP7-wNvYLt",
        "outputId": "53ab8fb2-aa8b-4573-da0f-d9568b872c6c"
      },
      "execution_count": null,
      "outputs": [
        {
          "output_type": "execute_result",
          "data": {
            "text/plain": [
              "tuple"
            ]
          },
          "metadata": {},
          "execution_count": 41
        }
      ]
    },
    {
      "cell_type": "markdown",
      "source": [
        "# Sets\n",
        "\n",
        "- uses curly braces '{}'\n",
        "- eliminates duplication\n",
        "- sorts alphabetically; big letter 1st; small letters last"
      ],
      "metadata": {
        "id": "4fg6W4Stv6rN"
      }
    },
    {
      "cell_type": "code",
      "source": [
        "WuWa_characters = {'Danjin', 'Rover', 'Camellya', 'Camellya', 'Camellya', 'Danjin', 'Rover', 'Jinhsi'}"
      ],
      "metadata": {
        "id": "43gF1doFwB2I"
      },
      "execution_count": null,
      "outputs": []
    },
    {
      "cell_type": "code",
      "source": [
        "WuWa_characters"
      ],
      "metadata": {
        "colab": {
          "base_uri": "https://localhost:8080/"
        },
        "id": "5qgebL1vw286",
        "outputId": "3dbcf79e-4d77-456f-8603-a0b68f5ab758"
      },
      "execution_count": null,
      "outputs": [
        {
          "output_type": "execute_result",
          "data": {
            "text/plain": [
              "{'Camellya', 'Danjin', 'Jinhsi', 'Rover'}"
            ]
          },
          "metadata": {},
          "execution_count": 46
        }
      ]
    },
    {
      "cell_type": "code",
      "source": [
        "Profile_Name = { 'D', 'a', 'v', 'e', ' ', 'J', 'h', 'a', 'r', 'e', 'd', ' ', 'P', 'a', 'd', 'u', 'a', 'd', 'a', '-7', '23'}"
      ],
      "metadata": {
        "id": "yJCQiKt9w7GD"
      },
      "execution_count": null,
      "outputs": []
    },
    {
      "cell_type": "code",
      "source": [
        "Profile_Name"
      ],
      "metadata": {
        "colab": {
          "base_uri": "https://localhost:8080/"
        },
        "id": "Oe1x_vuKxlBS",
        "outputId": "21f5b918-8ab2-43c4-f2af-0699c70449b1"
      },
      "execution_count": null,
      "outputs": [
        {
          "output_type": "execute_result",
          "data": {
            "text/plain": [
              "{' ', '-7', '23', 'D', 'J', 'P', 'a', 'd', 'e', 'h', 'r', 'u', 'v'}"
            ]
          },
          "metadata": {},
          "execution_count": 53
        }
      ]
    },
    {
      "cell_type": "markdown",
      "source": [
        "# Logic Operators\n"
      ],
      "metadata": {
        "id": "U3C9ICeCyFPm"
      }
    },
    {
      "cell_type": "code",
      "source": [
        "(1 > 2) and (6 < 3)\n",
        "\n",
        "# T, T = T\n",
        "# T, F = F\n",
        "# F, T = F\n",
        "# F, F = F"
      ],
      "metadata": {
        "colab": {
          "base_uri": "https://localhost:8080/"
        },
        "id": "2Px6Q9g6yIfe",
        "outputId": "05f9ccc5-770d-4180-c302-5d90ce64a89f"
      },
      "execution_count": null,
      "outputs": [
        {
          "output_type": "execute_result",
          "data": {
            "text/plain": [
              "False"
            ]
          },
          "metadata": {},
          "execution_count": 56
        }
      ]
    },
    {
      "cell_type": "code",
      "source": [
        "(1 > 2) or (3 < 6)\n",
        "\n",
        "# T, T = T\n",
        "# F, T = T\n",
        "# T, F = T\n",
        "# F, F = F"
      ],
      "metadata": {
        "colab": {
          "base_uri": "https://localhost:8080/"
        },
        "id": "kZO1oS3wyh7I",
        "outputId": "4425d208-d422-4276-b6f6-4bacd5a769e2"
      },
      "execution_count": null,
      "outputs": [
        {
          "output_type": "execute_result",
          "data": {
            "text/plain": [
              "True"
            ]
          },
          "metadata": {},
          "execution_count": 59
        }
      ]
    },
    {
      "cell_type": "markdown",
      "source": [
        "# IF Statement\n"
      ],
      "metadata": {
        "id": "VbBT-eumy9Ec"
      }
    },
    {
      "cell_type": "code",
      "source": [
        "# two condition\n",
        "\n",
        "if ( 7 < 3):\n",
        "    print ('Dave')\n",
        "else:\n",
        "    print ('Jhared')"
      ],
      "metadata": {
        "colab": {
          "base_uri": "https://localhost:8080/"
        },
        "id": "cf-M1YRHy-tj",
        "outputId": "0c9a0958-c844-4df7-e55b-aa122100b684"
      },
      "execution_count": null,
      "outputs": [
        {
          "output_type": "stream",
          "name": "stdout",
          "text": [
            "Jhared\n"
          ]
        }
      ]
    },
    {
      "cell_type": "markdown",
      "source": [
        "# Loops\n",
        "- for loop\n",
        "- while\n"
      ],
      "metadata": {
        "id": "BLUOfuuizZS9"
      }
    },
    {
      "cell_type": "code",
      "source": [
        "seq = [1, 2, 3, 4, 5]"
      ],
      "metadata": {
        "id": "K6vYI_3-zcS6"
      },
      "execution_count": null,
      "outputs": []
    },
    {
      "cell_type": "code",
      "source": [
        "for num in seq: # iteration\n",
        "  print(num * num)"
      ],
      "metadata": {
        "colab": {
          "base_uri": "https://localhost:8080/"
        },
        "id": "t5Sf1su7zlHc",
        "outputId": "2305d890-94fc-4c55-90d0-a730540ebce5"
      },
      "execution_count": null,
      "outputs": [
        {
          "output_type": "stream",
          "name": "stdout",
          "text": [
            "1\n",
            "4\n",
            "9\n",
            "16\n",
            "25\n"
          ]
        }
      ]
    },
    {
      "cell_type": "code",
      "source": [
        "# while\n",
        "\n",
        "i = 10\n",
        "\n",
        "while (i >= 5):\n",
        "  print ('i is: {}'.format(i))\n",
        "  i = i - 1"
      ],
      "metadata": {
        "colab": {
          "base_uri": "https://localhost:8080/"
        },
        "id": "AT7WVbo0zoiY",
        "outputId": "51b27b79-f38a-406d-a35a-7b73aa6c36a4"
      },
      "execution_count": null,
      "outputs": [
        {
          "output_type": "stream",
          "name": "stdout",
          "text": [
            "i is: 10\n",
            "i is: 9\n",
            "i is: 8\n",
            "i is: 7\n",
            "i is: 6\n",
            "i is: 5\n"
          ]
        }
      ]
    },
    {
      "cell_type": "markdown",
      "source": [
        "# CPE15 - Lab Activity 1"
      ],
      "metadata": {
        "id": "zLusAqrb_OFY"
      }
    },
    {
      "cell_type": "code",
      "source": [
        "# 1\n",
        "(64 ** 3)"
      ],
      "metadata": {
        "colab": {
          "base_uri": "https://localhost:8080/"
        },
        "id": "aSzs1mpL_U7r",
        "outputId": "1acb46ff-c27f-45e5-ec33-df08c45c4284"
      },
      "execution_count": null,
      "outputs": [
        {
          "output_type": "execute_result",
          "data": {
            "text/plain": [
              "262144"
            ]
          },
          "metadata": {},
          "execution_count": 95
        }
      ]
    },
    {
      "cell_type": "code",
      "source": [
        "# 2\n",
        "(145 ** (1/14))"
      ],
      "metadata": {
        "colab": {
          "base_uri": "https://localhost:8080/"
        },
        "id": "fKkPEc_pAWsO",
        "outputId": "5eace36f-5ca8-41b5-a907-1db6ad6ab506"
      },
      "execution_count": null,
      "outputs": [
        {
          "output_type": "execute_result",
          "data": {
            "text/plain": [
              "1.4268667859316837"
            ]
          },
          "metadata": {},
          "execution_count": 96
        }
      ]
    },
    {
      "cell_type": "code",
      "source": [
        "# 3\n",
        "(84 % 18)"
      ],
      "metadata": {
        "colab": {
          "base_uri": "https://localhost:8080/"
        },
        "id": "o_pHVP8RAik_",
        "outputId": "90d9ee93-e3c6-4e9f-c1f5-65c94716971f"
      },
      "execution_count": null,
      "outputs": [
        {
          "output_type": "stream",
          "name": "stdout",
          "text": [
            "12\n"
          ]
        }
      ]
    },
    {
      "cell_type": "code",
      "source": [
        "# 4\n",
        "s = \"The fox jumps over the lazy dog!\"\n",
        "s.split()"
      ],
      "metadata": {
        "colab": {
          "base_uri": "https://localhost:8080/"
        },
        "id": "HoLgVxa0Bmnr",
        "outputId": "f3a08b78-b3c8-4840-8ecd-d20f1c70c05b"
      },
      "execution_count": null,
      "outputs": [
        {
          "output_type": "execute_result",
          "data": {
            "text/plain": [
              "['The', 'fox', 'jumps', 'over', 'the', 'lazy', 'dog!']"
            ]
          },
          "metadata": {},
          "execution_count": 118
        }
      ]
    },
    {
      "cell_type": "code",
      "source": [
        "# 5\n",
        "planet = \"Mars\"\n",
        "tilt_of_axis = 23.5\n",
        "diameter = 7926\n",
        "(\"The planet {} has a diameter of {} and a tilt of axis at {}.\".format(planet, diameter, tilt_of_axis))\n"
      ],
      "metadata": {
        "colab": {
          "base_uri": "https://localhost:8080/",
          "height": 35
        },
        "id": "EP0gQqhUBxB2",
        "outputId": "e8759784-61ab-43c2-9f9c-2ec49686e088"
      },
      "execution_count": null,
      "outputs": [
        {
          "output_type": "execute_result",
          "data": {
            "text/plain": [
              "'The planet Mars has a diameter of 7926 and a tilt of axis at 23.5.'"
            ],
            "application/vnd.google.colaboratory.intrinsic+json": {
              "type": "string"
            }
          },
          "metadata": {},
          "execution_count": 121
        }
      ]
    },
    {
      "cell_type": "code",
      "source": [
        "# 6\n",
        "list_1 = [1, 2, 3, [[4, 5, 6,['a','b','c', 'd', 'e','f', 'target', 7, 8, 9], 10, 11,12]]]"
      ],
      "metadata": {
        "id": "axwxReREChnk"
      },
      "execution_count": null,
      "outputs": []
    },
    {
      "cell_type": "code",
      "source": [
        "list_1[3][0][3][6]"
      ],
      "metadata": {
        "colab": {
          "base_uri": "https://localhost:8080/",
          "height": 35
        },
        "id": "Gj4mIsX9EjoA",
        "outputId": "05ce8269-4974-49d0-978f-b718b018c637"
      },
      "execution_count": null,
      "outputs": [
        {
          "output_type": "execute_result",
          "data": {
            "text/plain": [
              "'target'"
            ],
            "application/vnd.google.colaboratory.intrinsic+json": {
              "type": "string"
            }
          },
          "metadata": {},
          "execution_count": 31
        }
      ]
    },
    {
      "cell_type": "code",
      "source": [
        "# 7\n",
        "list_2 = [1,2,3,[4,5,['a','b','c',['d','e','f','g',['h','target'],6,7]],8,9]]"
      ],
      "metadata": {
        "id": "xGyI7I3KEooJ"
      },
      "execution_count": null,
      "outputs": []
    },
    {
      "cell_type": "code",
      "source": [
        "list_2 [3][2][3][4][1]"
      ],
      "metadata": {
        "colab": {
          "base_uri": "https://localhost:8080/",
          "height": 35
        },
        "id": "glbdEHuQGlyS",
        "outputId": "f96f29ca-2db3-4ecf-af3a-5fbbeb857ca2"
      },
      "execution_count": null,
      "outputs": [
        {
          "output_type": "execute_result",
          "data": {
            "text/plain": [
              "'target'"
            ],
            "application/vnd.google.colaboratory.intrinsic+json": {
              "type": "string"
            }
          },
          "metadata": {},
          "execution_count": 37
        }
      ]
    },
    {
      "cell_type": "code",
      "source": [
        "# 8\n",
        "list_3 = [1,2,3,[4,[[5,6,7,[8,9,10,[11,12,13,14,[15,16,'target']]]],16,17]],18]"
      ],
      "metadata": {
        "id": "B4C9JHpVHBbV"
      },
      "execution_count": null,
      "outputs": []
    },
    {
      "cell_type": "code",
      "source": [
        "list_3 [3][1][0][3][3][4][2]"
      ],
      "metadata": {
        "colab": {
          "base_uri": "https://localhost:8080/",
          "height": 35
        },
        "id": "3y7d4Q2zHNcG",
        "outputId": "91c34903-501a-4c52-b228-07effb6492e6"
      },
      "execution_count": null,
      "outputs": [
        {
          "output_type": "execute_result",
          "data": {
            "text/plain": [
              "'target'"
            ],
            "application/vnd.google.colaboratory.intrinsic+json": {
              "type": "string"
            }
          },
          "metadata": {},
          "execution_count": 60
        }
      ]
    },
    {
      "cell_type": "code",
      "source": [
        "# 9\n",
        "d1 = {'k1':[1,2,3],'k2':{'k3':[1,2,3,4,'tricky']}}"
      ],
      "metadata": {
        "id": "pbtLEtNJHhiW"
      },
      "execution_count": null,
      "outputs": []
    },
    {
      "cell_type": "code",
      "source": [
        "d1 ['k2']['k3'][4]"
      ],
      "metadata": {
        "colab": {
          "base_uri": "https://localhost:8080/",
          "height": 35
        },
        "id": "lTrNIFepI65p",
        "outputId": "8c82215e-9d30-440d-c09e-bdbcbdcbf65d"
      },
      "execution_count": null,
      "outputs": [
        {
          "output_type": "execute_result",
          "data": {
            "text/plain": [
              "'tricky'"
            ],
            "application/vnd.google.colaboratory.intrinsic+json": {
              "type": "string"
            }
          },
          "metadata": {},
          "execution_count": 67
        }
      ]
    },
    {
      "cell_type": "code",
      "source": [
        "# 10\n",
        "d2 = {'k1':[1,2,3,],'k2':[{'k3':[4,6,6,'tricky']}]}"
      ],
      "metadata": {
        "id": "4n-Js23gJF1-"
      },
      "execution_count": null,
      "outputs": []
    },
    {
      "cell_type": "code",
      "source": [
        "d2 ['k2'][0]['k3'][3]"
      ],
      "metadata": {
        "colab": {
          "base_uri": "https://localhost:8080/",
          "height": 35
        },
        "id": "gXKNBGnVJh_3",
        "outputId": "6065585a-e5d2-4991-83c7-830f85ca8088"
      },
      "execution_count": null,
      "outputs": [
        {
          "output_type": "execute_result",
          "data": {
            "text/plain": [
              "'tricky'"
            ],
            "application/vnd.google.colaboratory.intrinsic+json": {
              "type": "string"
            }
          },
          "metadata": {},
          "execution_count": 81
        }
      ]
    },
    {
      "cell_type": "code",
      "source": [
        "# 11\n",
        "d3 = {'k1':[1,2,3,{'Hello':['oh','man','this',{'is':[1,2,3,4,5,6,7,8,['tricky']]}]}]}"
      ],
      "metadata": {
        "id": "j6O2jTE5Jpsi"
      },
      "execution_count": null,
      "outputs": []
    },
    {
      "cell_type": "code",
      "source": [
        "d3 ['k1'][3]['Hello'][3]['is'][8][0]"
      ],
      "metadata": {
        "colab": {
          "base_uri": "https://localhost:8080/",
          "height": 35
        },
        "id": "dh4inQh_KfdL",
        "outputId": "58e10cb9-c502-4145-b639-6dce29cb2d0e"
      },
      "execution_count": null,
      "outputs": [
        {
          "output_type": "execute_result",
          "data": {
            "text/plain": [
              "'tricky'"
            ],
            "application/vnd.google.colaboratory.intrinsic+json": {
              "type": "string"
            }
          },
          "metadata": {},
          "execution_count": 86
        }
      ]
    },
    {
      "cell_type": "code",
      "source": [
        "# 12 - 16\n",
        "\n",
        "st = \"Data science is the study of data to extract meaningful insights for business\""
      ],
      "metadata": {
        "id": "vwqUq7KGKlSx"
      },
      "execution_count": null,
      "outputs": []
    },
    {
      "cell_type": "code",
      "source": [
        "st[0:4]"
      ],
      "metadata": {
        "colab": {
          "base_uri": "https://localhost:8080/",
          "height": 55
        },
        "id": "VAdU_nq1LPV6",
        "outputId": "2b7ec8aa-5610-427b-9947-732bcbb72e0c"
      },
      "execution_count": null,
      "outputs": [
        {
          "output_type": "execute_result",
          "data": {
            "text/plain": [
              "'Data'"
            ],
            "application/vnd.google.colaboratory.intrinsic+json": {
              "type": "string"
            }
          },
          "metadata": {},
          "execution_count": 135
        }
      ]
    },
    {
      "cell_type": "code",
      "source": [
        "st[20:25]"
      ],
      "metadata": {
        "colab": {
          "base_uri": "https://localhost:8080/",
          "height": 35
        },
        "id": "KxbbHUJ3LUyq",
        "outputId": "2bcb6006-8cbb-4903-b116-c35406fd04a3"
      },
      "execution_count": null,
      "outputs": [
        {
          "output_type": "execute_result",
          "data": {
            "text/plain": [
              "'study'"
            ],
            "application/vnd.google.colaboratory.intrinsic+json": {
              "type": "string"
            }
          },
          "metadata": {},
          "execution_count": 125
        }
      ]
    },
    {
      "cell_type": "code",
      "source": [
        "st[37:55]"
      ],
      "metadata": {
        "colab": {
          "base_uri": "https://localhost:8080/",
          "height": 35
        },
        "id": "qwdiQg5kMmlR",
        "outputId": "1941a72d-edd1-4631-f43d-c1f78b44901f"
      },
      "execution_count": null,
      "outputs": [
        {
          "output_type": "execute_result",
          "data": {
            "text/plain": [
              "'extract meaningful'"
            ],
            "application/vnd.google.colaboratory.intrinsic+json": {
              "type": "string"
            }
          },
          "metadata": {},
          "execution_count": 128
        }
      ]
    },
    {
      "cell_type": "code",
      "source": [
        "st[56:64]"
      ],
      "metadata": {
        "colab": {
          "base_uri": "https://localhost:8080/",
          "height": 35
        },
        "id": "cYu0Q6AKNFRY",
        "outputId": "6a7a7f19-a9d0-450f-8d9d-8c19193254ce"
      },
      "execution_count": null,
      "outputs": [
        {
          "output_type": "execute_result",
          "data": {
            "text/plain": [
              "'insights'"
            ],
            "application/vnd.google.colaboratory.intrinsic+json": {
              "type": "string"
            }
          },
          "metadata": {},
          "execution_count": 131
        }
      ]
    },
    {
      "cell_type": "code",
      "source": [
        "st[69:]"
      ],
      "metadata": {
        "colab": {
          "base_uri": "https://localhost:8080/",
          "height": 35
        },
        "id": "DFO8nzOsONG7",
        "outputId": "21d7960c-fcd9-4419-ffbb-a9f409979eb4"
      },
      "execution_count": null,
      "outputs": [
        {
          "output_type": "execute_result",
          "data": {
            "text/plain": [
              "'business'"
            ],
            "application/vnd.google.colaboratory.intrinsic+json": {
              "type": "string"
            }
          },
          "metadata": {},
          "execution_count": 134
        }
      ]
    },
    {
      "cell_type": "code",
      "source": [],
      "metadata": {
        "id": "l627yFw1OT0T"
      },
      "execution_count": null,
      "outputs": []
    },
    {
      "cell_type": "markdown",
      "source": [
        "# Part two\n",
        "\n",
        "- Functions\n",
        "- Lambda\n",
        "- Map\n",
        "- Filter\n",
        "- Common list methods\n",
        "- Common string methods\n",
        "- Common dictionary methods\n",
        "- Tuple unpacking"
      ],
      "metadata": {
        "id": "iLAArmbUj62y"
      }
    },
    {
      "cell_type": "markdown",
      "source": [
        "# Functions\n",
        "\n",
        "- a block of code designed to performed a specific tasks\n",
        "- function help in organizing code making it more modular, reusable, and easier to maintain.\n"
      ],
      "metadata": {
        "id": "gHjGHqrA5PCD"
      }
    },
    {
      "cell_type": "markdown",
      "source": [
        "# Function with Multiple Arguments\n"
      ],
      "metadata": {
        "id": "RBV277y75kUb"
      }
    },
    {
      "cell_type": "code",
      "source": [
        "def add_numbers (a, b):\n",
        "  print(f'The sum of {a} and {b} is {a + b}') # close the variable with {}"
      ],
      "metadata": {
        "id": "2v8jsbnM5ovg"
      },
      "execution_count": null,
      "outputs": []
    },
    {
      "cell_type": "code",
      "source": [
        "add_numbers(2,3)"
      ],
      "metadata": {
        "colab": {
          "base_uri": "https://localhost:8080/"
        },
        "id": "oLSXx1zA5zCL",
        "outputId": "0e7e6503-5ec8-4e7c-82a6-51007e48b73e"
      },
      "execution_count": null,
      "outputs": [
        {
          "output_type": "stream",
          "name": "stdout",
          "text": [
            "The sum of 2 and 3 is 5\n"
          ]
        }
      ]
    },
    {
      "cell_type": "markdown",
      "source": [
        "# Function with Return Value"
      ],
      "metadata": {
        "id": "AheH4ONE6RPg"
      }
    },
    {
      "cell_type": "code",
      "source": [
        "def multiply_numbers (a, b):\n",
        "  return a * b"
      ],
      "metadata": {
        "id": "1ZWdANw26Tgc"
      },
      "execution_count": null,
      "outputs": []
    },
    {
      "cell_type": "code",
      "source": [
        "result = multiply_numbers (3, 3)\n",
        "print(f\"The result of multiplication is {result}\")"
      ],
      "metadata": {
        "colab": {
          "base_uri": "https://localhost:8080/"
        },
        "id": "KbwR0-_y6Vyg",
        "outputId": "603be2e4-e4e9-45b4-e017-bdf6fd3ad920"
      },
      "execution_count": null,
      "outputs": [
        {
          "output_type": "stream",
          "name": "stdout",
          "text": [
            "The result of multiplication is 9\n"
          ]
        }
      ]
    },
    {
      "cell_type": "markdown",
      "source": [
        "# Lambda Expressions\n",
        "- a small, anonymouse function defined with the lambda keyword.\n",
        "- unlike regular functions defined using the def keyword, lambda functions can have any number of arguments but only one expression.\n",
        "- the expression is evaluated and returned\n",
        "- lambda functions are often used for short, simple operations where a full function definition might seem excessive"
      ],
      "metadata": {
        "id": "bCkrKm3y6mK1"
      }
    },
    {
      "cell_type": "code",
      "source": [
        "# Sample - Lambda expression for addition\n",
        "\n",
        "add = lambda x, y: x + y\n",
        "result = add(5, 3)\n",
        "print(result)"
      ],
      "metadata": {
        "colab": {
          "base_uri": "https://localhost:8080/"
        },
        "id": "zQpoHTji6-g4",
        "outputId": "72625d42-8a35-4091-a548-33b2c9970864"
      },
      "execution_count": null,
      "outputs": [
        {
          "output_type": "stream",
          "name": "stdout",
          "text": [
            "8\n"
          ]
        }
      ]
    },
    {
      "cell_type": "code",
      "source": [
        "# Sample - Lambda expression for square of a number\n",
        "\n",
        "square = lambda x: x ** 2\n",
        "result = square(4)\n",
        "print(result)"
      ],
      "metadata": {
        "colab": {
          "base_uri": "https://localhost:8080/"
        },
        "id": "Pa2pBDdn7F4n",
        "outputId": "05432a16-463f-4a9a-e446-2cc95e9500e0"
      },
      "execution_count": null,
      "outputs": [
        {
          "output_type": "stream",
          "name": "stdout",
          "text": [
            "16\n"
          ]
        }
      ]
    },
    {
      "cell_type": "code",
      "source": [
        "# Sample - Lambda expression with condition\n",
        "\n",
        "is_even = lambda x: x % 2 == 0\n",
        "result = is_even(7)\n",
        "print(result)\n",
        "\n",
        "# Sample - Lambda expression with Even or Odd using ternary expression\n",
        "is_even = lambda x: \"Even\" if x % 2 == 0 else \"Odd\"\n",
        "result = is_even(4)\n",
        "print(result)"
      ],
      "metadata": {
        "colab": {
          "base_uri": "https://localhost:8080/"
        },
        "id": "G2SKxeOR7coT",
        "outputId": "b06a00ed-a579-4c54-c3fd-d1ffd45f0904"
      },
      "execution_count": null,
      "outputs": [
        {
          "output_type": "stream",
          "name": "stdout",
          "text": [
            "False\n",
            "Even\n"
          ]
        }
      ]
    },
    {
      "cell_type": "markdown",
      "source": [
        "# Map Function\n",
        "- the map() function is Python is a built-in function that applies given function to each item in an iterable (like a list, tuple, etc.) and returns a map object (which is an iterator)\n",
        "- the map() function is useful when you need to transform or modify elements of an iterable without using explicit loops.\n",
        "- map(function, iterable,...)\n"
      ],
      "metadata": {
        "id": "HUHXOo7c8uFe"
      }
    },
    {
      "cell_type": "code",
      "source": [
        "# Squaring Numbers, Single Iterable\n",
        "\n",
        "numbers = [1, 2, 3, 4, 5]\n",
        "\n",
        "squared_numbers = list(map(lambda x: x ** 2, numbers))\n",
        "print(squared_numbers)"
      ],
      "metadata": {
        "colab": {
          "base_uri": "https://localhost:8080/"
        },
        "id": "FvODuRSg9HpB",
        "outputId": "053be511-840d-49bf-da38-53b7877c400c"
      },
      "execution_count": null,
      "outputs": [
        {
          "output_type": "stream",
          "name": "stdout",
          "text": [
            "[1, 4, 9, 16, 25]\n"
          ]
        }
      ]
    },
    {
      "cell_type": "code",
      "source": [
        "# Sum, Multiple Iterables\n",
        "\n",
        "a = [1, 2, 3]\n",
        "b = [4, 5, 6]\n",
        "\n",
        "sum_result = list(map(lambda x, y: x + y, a, b))\n",
        "print(sum_result)"
      ],
      "metadata": {
        "colab": {
          "base_uri": "https://localhost:8080/"
        },
        "id": "9jR8bfGp9bmx",
        "outputId": "f2bfbe4a-decf-4db8-c539-f99650240bce"
      },
      "execution_count": null,
      "outputs": [
        {
          "output_type": "stream",
          "name": "stdout",
          "text": [
            "[5, 7, 9]\n"
          ]
        }
      ]
    },
    {
      "cell_type": "code",
      "source": [
        "# Map in custom function\n",
        "\n",
        "def add_five(x):\n",
        "  return x + 5\n",
        "\n",
        "numbers = [1, 2, 3]\n",
        "\n",
        "result = list(map(add_five, numbers))\n",
        "print(result)"
      ],
      "metadata": {
        "colab": {
          "base_uri": "https://localhost:8080/"
        },
        "id": "W4TsiwvQ9pxx",
        "outputId": "d2568bf9-7629-421b-9f67-b6f83b2f5563"
      },
      "execution_count": null,
      "outputs": [
        {
          "output_type": "stream",
          "name": "stdout",
          "text": [
            "[6, 7, 8]\n"
          ]
        }
      ]
    },
    {
      "cell_type": "code",
      "source": [
        "# Map in custom function, multiple arguments\n",
        "\n",
        "def add_three_numbers (x, y, z):\n",
        "  return x + y + z\n",
        "\n",
        "list1 = [1, 2, 3]\n",
        "list2 = [10, 20, 30]\n",
        "list3 = [100, 200, 300]\n",
        "\n",
        "# Using map to add corresponding elements from the three lists\n",
        "\n",
        "result = list(map(add_three_numbers, list1, list2, list3))\n",
        "print(result)"
      ],
      "metadata": {
        "colab": {
          "base_uri": "https://localhost:8080/"
        },
        "id": "x6kYRp8p-SWF",
        "outputId": "cc4b92e1-2632-41d8-8f30-14dc16d3d06c"
      },
      "execution_count": null,
      "outputs": [
        {
          "output_type": "stream",
          "name": "stdout",
          "text": [
            "[111, 222, 333]\n"
          ]
        }
      ]
    },
    {
      "cell_type": "markdown",
      "source": [
        "# Filter Function\n",
        "- the filter() function in Python is a built-in function that is iterable from elements of an iterable for which for a which a specified function returns True.\n",
        "- In other words, it filters out the elements from the iterable that do not satisfy the condition specified by the function\n",
        "- filter (function, iterable)\n"
      ],
      "metadata": {
        "id": "5_HO44Tc_L8b"
      }
    },
    {
      "cell_type": "code",
      "source": [
        "# Check for even numbers via filter\n",
        "\n",
        "numbers = [1, 2, 3, 4]\n",
        "is_even = lambda x: x % 2 == 0\n",
        "\n",
        "even_numbers = list(filter(is_even, numbers))\n",
        "\n",
        "# using filter\n",
        "\n",
        "even_numbers = list(filter(is_even, numbers))\n",
        "print(even_numbers)"
      ],
      "metadata": {
        "colab": {
          "base_uri": "https://localhost:8080/"
        },
        "id": "AKPKFjmZ_jHw",
        "outputId": "fc261de4-06ea-4784-cfc6-977876ee419f"
      },
      "execution_count": null,
      "outputs": [
        {
          "output_type": "stream",
          "name": "stdout",
          "text": [
            "[2, 4]\n"
          ]
        }
      ]
    },
    {
      "cell_type": "code",
      "source": [
        "# Using Filter with Map\n",
        "\n",
        "numbers = [1, 2, 3, 4, 5, 6, 7, 8]\n",
        "\n",
        "filtered_squares = list(filter(lambda x: x > 15, map(lambda x: x ** 2, numbers)))\n",
        "filtered_squares"
      ],
      "metadata": {
        "colab": {
          "base_uri": "https://localhost:8080/"
        },
        "id": "ia_B1nLU_17L",
        "outputId": "3f7b2f35-92a5-49a9-9852-53ec83451baf"
      },
      "execution_count": null,
      "outputs": [
        {
          "output_type": "execute_result",
          "data": {
            "text/plain": [
              "[16, 25, 36, 49, 64]"
            ]
          },
          "metadata": {},
          "execution_count": 24
        }
      ]
    },
    {
      "cell_type": "code",
      "source": [
        "# Using Filter with Map on Multiple Iterables\n",
        "\n",
        "list1 = [1, 2, 3, 4, 5]\n",
        "list2 = [10, 20, 30, 40, 50]\n",
        "\n",
        "filtered_results = list(filter(lambda x: x > 100, map(lambda x, y: (x + y) ** 2, list1, list2)))\n",
        "filtered_results"
      ],
      "metadata": {
        "colab": {
          "base_uri": "https://localhost:8080/"
        },
        "id": "ZImiS7AjANpf",
        "outputId": "5ba00954-d6a8-4973-e852-dcad2322a980"
      },
      "execution_count": null,
      "outputs": [
        {
          "output_type": "execute_result",
          "data": {
            "text/plain": [
              "[121, 484, 1089, 1936, 3025]"
            ]
          },
          "metadata": {},
          "execution_count": 25
        }
      ]
    },
    {
      "cell_type": "code",
      "source": [
        "# Sample Using Dictionary\n",
        "\n",
        "dict1 = {'a': 1, 'b': 2, 'c': 3, 'd': 4, 'e': 5}\n",
        "dict2 = {'a': 10, 'b': 20, 'c': 30, 'd': 40, 'e': 50}\n",
        "\n",
        "filtered_results = dict(filter(lambda item: item[1] > 30, map (lambda key: (key, (dict1[key] + dict2[key])), dict1)))\n",
        "\n",
        "print(filtered_results)"
      ],
      "metadata": {
        "colab": {
          "base_uri": "https://localhost:8080/"
        },
        "id": "9sCijkJLAm4n",
        "outputId": "fd42f620-4989-418f-87e6-c06f642bf97c"
      },
      "execution_count": null,
      "outputs": [
        {
          "output_type": "stream",
          "name": "stdout",
          "text": [
            "{'c': 33, 'd': 44, 'e': 55}\n"
          ]
        }
      ]
    },
    {
      "cell_type": "markdown",
      "source": [
        "# Common list methods\n",
        "\n"
      ],
      "metadata": {
        "id": "yq8tgGhOBext"
      }
    },
    {
      "cell_type": "code",
      "source": [
        "# append() - adds to the last\n",
        "# adds a single element to the end of the list.\n",
        "\n",
        "Fontaine = ['Furina', 'Navia', 'Clorinde']\n",
        "\n",
        "Fontaine.append('Focalor')\n",
        "Fontaine"
      ],
      "metadata": {
        "colab": {
          "base_uri": "https://localhost:8080/"
        },
        "id": "vXyD57RABrkK",
        "outputId": "6e4109b5-6573-46a8-ff57-bd6f7f63d381"
      },
      "execution_count": null,
      "outputs": [
        {
          "output_type": "execute_result",
          "data": {
            "text/plain": [
              "['Furina', 'Navia', 'Clorinde', 'Focalor']"
            ]
          },
          "metadata": {},
          "execution_count": 29
        }
      ]
    },
    {
      "cell_type": "code",
      "source": [
        "# extend()\n",
        "# extends the list by appending all elements form another iterable\n",
        "\n",
        "Liyue = ['Keqing', 'Zhongli', 'Xiangling']\n",
        "Liyue.extend (['Shenhe', 'Hu Tao', 'Keqing'])\n",
        "\n",
        "print(Liyue)"
      ],
      "metadata": {
        "colab": {
          "base_uri": "https://localhost:8080/"
        },
        "id": "14OgNHlMB_Xq",
        "outputId": "42d3db61-425a-4ef0-f173-a2f608122849"
      },
      "execution_count": null,
      "outputs": [
        {
          "output_type": "stream",
          "name": "stdout",
          "text": [
            "['Keqing', 'Zhongli', 'Xiangling', 'Shenhe', 'Hu Tao', 'Keqing']\n"
          ]
        }
      ]
    },
    {
      "cell_type": "code",
      "source": [
        "# Insert()\n",
        "# Inserts an element at a specified position\n",
        "\n",
        "Inazuma = ['Yoimiya', 'Ayaka', 'Kirara']\n",
        "Inazuma.insert(1, 'Kazuha') # Insert 'Kazuha' at index 1\n",
        "print(Inazuma)"
      ],
      "metadata": {
        "colab": {
          "base_uri": "https://localhost:8080/"
        },
        "id": "v7p0cEaGCl2Z",
        "outputId": "3b1aa79d-1d21-4d8b-b3e3-6f6926dadbe0"
      },
      "execution_count": null,
      "outputs": [
        {
          "output_type": "stream",
          "name": "stdout",
          "text": [
            "['Yoimiya', 'Kazuha', 'Ayaka', 'Kirara']\n"
          ]
        }
      ]
    },
    {
      "cell_type": "code",
      "source": [
        "# Remove ()\n",
        "# Removes the first occurrence of a specified element from the list\n",
        "\n",
        "Sumeru = ['Collei', 'Tighnari', 'Nahida', 'Nilou']\n",
        "Sumeru.remove('Collei')\n",
        "print(Sumeru)"
      ],
      "metadata": {
        "colab": {
          "base_uri": "https://localhost:8080/"
        },
        "id": "IGEjuyoYDHOW",
        "outputId": "f88947e4-3be2-4808-ffdc-3d6f14881d05"
      },
      "execution_count": null,
      "outputs": [
        {
          "output_type": "stream",
          "name": "stdout",
          "text": [
            "['Tighnari', 'Nahida', 'Nilou']\n"
          ]
        }
      ]
    },
    {
      "cell_type": "code",
      "source": [
        "# pop()\n",
        "# Removes and returns the element at the specified position\n",
        "# IF no index is specified, it removes and returns the last element\n",
        "\n",
        "Natlan = ['Kachina', 'Kinich', 'Mualani']\n",
        "removed_Natlan = Natlan.pop(1) # remove and return element at index 1\n",
        "print(removed_Natlan)\n",
        "print(Natlan)"
      ],
      "metadata": {
        "colab": {
          "base_uri": "https://localhost:8080/"
        },
        "id": "YgY6alJcDbam",
        "outputId": "6394e5e3-78a2-427e-871f-7cd6d33a6619"
      },
      "execution_count": null,
      "outputs": [
        {
          "output_type": "stream",
          "name": "stdout",
          "text": [
            "Kinich\n",
            "['Kachina', 'Mualani']\n"
          ]
        }
      ]
    },
    {
      "cell_type": "code",
      "source": [
        "# clear()\n",
        "# removes all elements from the list, leaving it empty.\n",
        "\n",
        "Hoyoverse = ['Honkai Impact 3rd', 'Genshin Impact', 'Honkai Star Rail']\n",
        "Hoyoverse.clear()\n",
        "print(Hoyoverse)"
      ],
      "metadata": {
        "colab": {
          "base_uri": "https://localhost:8080/"
        },
        "id": "Vv2XkHOeD-S7",
        "outputId": "25276afa-57ce-413a-91d0-ebbc4ba68235"
      },
      "execution_count": null,
      "outputs": [
        {
          "output_type": "stream",
          "name": "stdout",
          "text": [
            "[]\n"
          ]
        }
      ]
    },
    {
      "cell_type": "code",
      "source": [
        "# index()\n",
        "# returns the index of the first occurance of a specified element\n",
        "\n",
        "Star_Rail = ['March 7th', 'Stelle', 'Firefly', 'Sparkle']\n",
        "index_of_StarRail = Star_Rail.index('Sparkle')\n",
        "print(index_of_StarRail)"
      ],
      "metadata": {
        "colab": {
          "base_uri": "https://localhost:8080/"
        },
        "id": "bh-uaem5FP8Q",
        "outputId": "938929a1-098c-4def-cc68-857de1830764"
      },
      "execution_count": null,
      "outputs": [
        {
          "output_type": "stream",
          "name": "stdout",
          "text": [
            "3\n"
          ]
        }
      ]
    },
    {
      "cell_type": "code",
      "source": [
        "# count()\n",
        "# returns the number of times a specified element appears in the list\n",
        "\n",
        "Geo = ['Zhongli', 'Albedo', 'Zhongli', 'Kachina', 'Zhongli']\n",
        "count_of_Zhongli = Geo.count('Zhongli')\n",
        "print(count_of_Zhongli)"
      ],
      "metadata": {
        "colab": {
          "base_uri": "https://localhost:8080/"
        },
        "id": "VlohXHU2FnmV",
        "outputId": "64cbfd45-95cc-48d6-fb0f-ea33a74338b1"
      },
      "execution_count": null,
      "outputs": [
        {
          "output_type": "stream",
          "name": "stdout",
          "text": [
            "3\n"
          ]
        }
      ]
    },
    {
      "cell_type": "code",
      "source": [
        "# sort()\n",
        "# sorts the elements of the list in ascending order by default\n",
        "# can also sort in descending order by specifying rever=True\n",
        "\n",
        "numbers = [3, 1, 4, 1, 5, 9, 2, 6, 5, 3, 5] #doesnt apply mix (string and int)\n",
        "numbers.sort()\n",
        "# numbers.sort(reverse = True)\n",
        "print(numbers)"
      ],
      "metadata": {
        "colab": {
          "base_uri": "https://localhost:8080/"
        },
        "id": "Je7QjeFKF6zd",
        "outputId": "ab1d9ed2-a0c4-4845-c1cf-bbe2ab803367"
      },
      "execution_count": null,
      "outputs": [
        {
          "output_type": "stream",
          "name": "stdout",
          "text": [
            "[1, 1, 2, 3, 3, 4, 5, 5, 5, 6, 9]\n"
          ]
        }
      ]
    },
    {
      "cell_type": "code",
      "source": [
        "# reverse()\n",
        "# reverses the elements of the list in place\n",
        "\n",
        "Electro = ['Keqing', 'Lisa', 'Raiden', 'Fischl']\n",
        "Electro.reverse()\n",
        "print(Electro)"
      ],
      "metadata": {
        "colab": {
          "base_uri": "https://localhost:8080/"
        },
        "id": "P2AyawaCGqci",
        "outputId": "69719649-b2e1-4b78-f57f-939a09448e1d"
      },
      "execution_count": null,
      "outputs": [
        {
          "output_type": "stream",
          "name": "stdout",
          "text": [
            "['Fischl', 'Raiden', 'Lisa', 'Keqing']\n"
          ]
        }
      ]
    },
    {
      "cell_type": "code",
      "source": [
        "# sort() with a key function\n",
        "# sorts the list based on the key function provided\n",
        "\n",
        "Pyro = ['Diluc', 'Bennett', 'Xiangling', 'Hu Tao']\n",
        "Pyro.sort(key = len) # sorts by length\n",
        "print(Pyro)"
      ],
      "metadata": {
        "colab": {
          "base_uri": "https://localhost:8080/"
        },
        "id": "LIZ18BjPHMPa",
        "outputId": "8ed0db32-60ca-4c4d-ec2d-e98f1fdd88e5"
      },
      "execution_count": null,
      "outputs": [
        {
          "output_type": "stream",
          "name": "stdout",
          "text": [
            "['Diluc', 'Hu Tao', 'Bennett', 'Xiangling']\n"
          ]
        }
      ]
    },
    {
      "cell_type": "code",
      "source": [
        "# len(list)\n",
        "# returns the lenght of the list\n",
        "\n",
        "Cryo = ['Eula', 'Diona', 'Ganyu', 'Qiqi']\n",
        "length = len(Cryo)\n",
        "print(length)\n"
      ],
      "metadata": {
        "colab": {
          "base_uri": "https://localhost:8080/"
        },
        "id": "LnxU9bmmHlV2",
        "outputId": "fae46e06-1ba7-46f1-d5f9-16bcb3d38d93"
      },
      "execution_count": null,
      "outputs": [
        {
          "output_type": "stream",
          "name": "stdout",
          "text": [
            "4\n"
          ]
        }
      ]
    },
    {
      "cell_type": "code",
      "source": [
        "# list comprehension\n",
        "# although not a method, list comprehensions provide a concise way to create lists based on existing list\n",
        "\n",
        "numbers = [1, 2, 3, 4, 5]\n",
        "\n",
        "squares = [x ** 2 for x in numbers]\n",
        "\n",
        "print(squares)"
      ],
      "metadata": {
        "colab": {
          "base_uri": "https://localhost:8080/"
        },
        "id": "vuU1ZRSsHxgU",
        "outputId": "19c36008-558d-4446-ccf5-cb02c32321d3"
      },
      "execution_count": null,
      "outputs": [
        {
          "output_type": "stream",
          "name": "stdout",
          "text": [
            "[1, 4, 9, 16, 25]\n"
          ]
        }
      ]
    },
    {
      "cell_type": "markdown",
      "source": [
        "# Common string methods"
      ],
      "metadata": {
        "id": "SfqyLCFiISRM"
      }
    },
    {
      "cell_type": "code",
      "source": [
        "from typing import ValuesView\n",
        "# upper()\n",
        "\n",
        "text = \"hello\"\n",
        "upper_text = text.upper()\n",
        "print(upper_text)\n",
        "\n",
        "capitalize = \"world\" # first letter only capital\n",
        "capitalize_text = capitalize.capitalize()\n",
        "print(capitalize_text)\n",
        "\n",
        "title = \"tech otakus save the world\" # first letter of every word capital\n",
        "title_text = title.title()\n",
        "print(title_text)\n",
        "\n",
        "strip = \"     ZZZ      \"\n",
        "stripped_text = strip.strip()\n",
        "print(stripped_text)\n",
        "\n",
        "find = \"Constellation Amber\"\n",
        "index = find.find(\"Amber\")\n",
        "print(index)\n",
        "\n",
        "replace = \"hellow world\"\n",
        "replaced_text = replace.replace(\"world\", \"universe\")\n",
        "print(replaced_text)\n",
        "\n",
        "split_text = \"paduada@mozmail.com\"\n",
        "split = split_text.split(\"@\")\n",
        "print(split)\n",
        "\n",
        "person = {'name': 'Alice', 'age': 25}\n",
        "keys = person.keys()\n",
        "print(keys)\n",
        "\n",
        "person1 = {'name': 'Alice', 'age': 25}\n",
        "values= person1.values()\n",
        "print(values)\n",
        "\n",
        "people = {\n",
        "    '001': {'name': 'Alice', 'age': 25},\n",
        "    '002': {'name': 'Bob', 'age': 30},\n",
        "    '003': {'name': 'Charlie', 'age': 35}\n",
        "}\n",
        "\n",
        "people['001'].update({'age': 26})\n",
        "print(people)\n",
        "\n"
      ],
      "metadata": {
        "colab": {
          "base_uri": "https://localhost:8080/"
        },
        "id": "eqvUgtp5IUDu",
        "outputId": "d419412b-de7d-488b-a967-661d28906e04"
      },
      "execution_count": null,
      "outputs": [
        {
          "output_type": "stream",
          "name": "stdout",
          "text": [
            "HELLO\n",
            "World\n",
            "Tech Otakus Save The World\n",
            "ZZZ\n",
            "14\n",
            "hellow universe\n",
            "['paduada', 'mozmail.com']\n",
            "dict_keys(['name', 'age'])\n",
            "dict_values(['Alice', 25])\n",
            "{'001': {'name': 'Alice', 'age': 26}, '002': {'name': 'Bob', 'age': 30}, '003': {'name': 'Charlie', 'age': 35}}\n"
          ]
        }
      ]
    },
    {
      "cell_type": "code",
      "source": [],
      "metadata": {
        "id": "OIR48lB4IhK9"
      },
      "execution_count": null,
      "outputs": []
    },
    {
      "cell_type": "markdown",
      "source": [
        "# Tuple unpacking\n"
      ],
      "metadata": {
        "id": "SgGU16BFKKhW"
      }
    },
    {
      "cell_type": "code",
      "source": [
        "person = ('Alice', 25, 'New York')\n",
        "name, age, city = person\n",
        "\n",
        "print(name)\n",
        "print(age)\n",
        "print(city)"
      ],
      "metadata": {
        "colab": {
          "base_uri": "https://localhost:8080/"
        },
        "id": "szZ8VTRBKMcz",
        "outputId": "b5bc2dd9-8b67-4ea3-d13c-07e1c027daf3"
      },
      "execution_count": null,
      "outputs": [
        {
          "output_type": "stream",
          "name": "stdout",
          "text": [
            "Alice\n",
            "25\n",
            "New York\n"
          ]
        }
      ]
    },
    {
      "cell_type": "code",
      "source": [
        "people = [('Alice', 25,), ('Bob', 30), ('Charlie', 35)]\n",
        "\n",
        "# using a for loop to unpack each tuple\n",
        "\n",
        "for name, age in people:\n",
        "  print(f\"{name} is {age} years old\")"
      ],
      "metadata": {
        "colab": {
          "base_uri": "https://localhost:8080/"
        },
        "id": "kifxHBPwKTFL",
        "outputId": "34649212-865f-4915-964e-a89c4572357f"
      },
      "execution_count": null,
      "outputs": [
        {
          "output_type": "stream",
          "name": "stdout",
          "text": [
            "Alice is 25 years old\n",
            "Bob is 30 years old\n",
            "Charlie is 35 years old\n"
          ]
        }
      ]
    },
    {
      "cell_type": "code",
      "source": [
        "# using enumerate\n",
        "\n",
        "fruits = ['apple', 'banana', 'cherry']\n",
        "\n",
        "for index, fruit in enumerate(fruits):\n",
        "  print(f\"Index {index} contains {fruit}\")"
      ],
      "metadata": {
        "colab": {
          "base_uri": "https://localhost:8080/"
        },
        "id": "49q3Uy-kKeve",
        "outputId": "11a61a27-d94c-4510-d3f8-b049706b3484"
      },
      "execution_count": null,
      "outputs": [
        {
          "output_type": "stream",
          "name": "stdout",
          "text": [
            "Index 0 contains apple\n",
            "Index 1 contains banana\n",
            "Index 2 contains cherry\n"
          ]
        }
      ]
    },
    {
      "cell_type": "code",
      "source": [
        "# using zip\n",
        "\n",
        "names = ['Alice', 'Bob', 'Charlie']\n",
        "ages = [25, 30, 35]\n",
        "\n",
        "for name, age in zip(names, ages):\n",
        "  print(f\"{name} is {age} years old\")"
      ],
      "metadata": {
        "colab": {
          "base_uri": "https://localhost:8080/"
        },
        "id": "W72d4wq5K5Qd",
        "outputId": "462d3dd2-5313-4ceb-d9fe-4a5bb956b0d7"
      },
      "execution_count": null,
      "outputs": [
        {
          "output_type": "stream",
          "name": "stdout",
          "text": [
            "Alice is 25 years old\n",
            "Bob is 30 years old\n",
            "Charlie is 35 years old\n"
          ]
        }
      ]
    },
    {
      "cell_type": "code",
      "source": [],
      "metadata": {
        "id": "oCpjLNL9K9PH"
      },
      "execution_count": null,
      "outputs": []
    }
  ]
}